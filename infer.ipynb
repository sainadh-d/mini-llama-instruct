{
 "cells": [
  {
   "cell_type": "code",
   "execution_count": 31,
   "id": "8ad95501-5c45-42cd-b427-e0885d0cd6f9",
   "metadata": {},
   "outputs": [],
   "source": [
    "import torch\n",
    "import torch.nn.functional as F\n",
    "\n",
    "from tokenizer import Tokenizer\n",
    "from model import Transformer, MiniLlamaArgs"
   ]
  },
  {
   "cell_type": "code",
   "execution_count": 32,
   "id": "f1e73859-c5bc-4b89-af6b-3d6f05d83325",
   "metadata": {},
   "outputs": [
    {
     "name": "stderr",
     "output_type": "stream",
     "text": [
      "/tmp/ipykernel_73363/1695345042.py:1: FutureWarning: You are using `torch.load` with `weights_only=False` (the current default value), which uses the default pickle module implicitly. It is possible to construct malicious pickle data which will execute arbitrary code during unpickling (See https://github.com/pytorch/pytorch/blob/main/SECURITY.md#untrusted-models for more details). In a future release, the default value for `weights_only` will be flipped to `True`. This limits the functions that could be executed during unpickling. Arbitrary objects will no longer be allowed to be loaded via this mode unless they are explicitly allowlisted by the user via `torch.serialization.add_safe_globals`. We recommend you start setting `weights_only=True` for any use case where you don't have full control of the loaded file. Please open an issue on GitHub for any issues related to this experimental feature.\n",
      "  checkpoint = torch.load(\"log/model_00079.pt\")\n"
     ]
    },
    {
     "data": {
      "text/plain": [
       "Transformer(\n",
       "  (token_embeddings): Embedding(32000, 768)\n",
       "  (dropout): Dropout(p=0.0, inplace=False)\n",
       "  (layers): ModuleList(\n",
       "    (0-11): 12 x TransformerBlock(\n",
       "      (attention): Attention(\n",
       "        (wq): Linear(in_features=768, out_features=768, bias=False)\n",
       "        (wk): Linear(in_features=768, out_features=768, bias=False)\n",
       "        (wv): Linear(in_features=768, out_features=768, bias=False)\n",
       "        (wo): Linear(in_features=768, out_features=768, bias=False)\n",
       "        (attn_dropout): Dropout(p=0.0, inplace=False)\n",
       "        (resid_dropout): Dropout(p=0.0, inplace=False)\n",
       "      )\n",
       "      (feed_forward): FeedForward(\n",
       "        (w1): Linear(in_features=768, out_features=2048, bias=False)\n",
       "        (w2): Linear(in_features=2048, out_features=768, bias=False)\n",
       "        (w3): Linear(in_features=768, out_features=2048, bias=False)\n",
       "        (dropout): Dropout(p=0.0, inplace=False)\n",
       "      )\n",
       "      (attention_norm): RMSNorm()\n",
       "      (ffn_norm): RMSNorm()\n",
       "    )\n",
       "  )\n",
       "  (norm): RMSNorm()\n",
       "  (output): Linear(in_features=768, out_features=32000, bias=False)\n",
       ")"
      ]
     },
     "execution_count": 32,
     "metadata": {},
     "output_type": "execute_result"
    }
   ],
   "source": [
    "checkpoint = torch.load(\"log/finetune_00079.pt\")\n",
    "weights = checkpoint['model']\n",
    "\n",
    "# Init the model\n",
    "model = Transformer(MiniLlamaArgs())\n",
    "model.load_state_dict(weights)\n",
    "\n",
    "# Set Device\n",
    "device = \"cuda:0\"\n",
    "\n",
    "# Move the model to GPU\n",
    "model.to(device)"
   ]
  },
  {
   "cell_type": "code",
   "execution_count": 33,
   "id": "18f2a587-a880-4dc6-8895-b6efec821675",
   "metadata": {},
   "outputs": [],
   "source": [
    "torch.manual_seed(1337)\n",
    "if torch.cuda.is_available():\n",
    "    torch.cuda.manual_seed(1337)\n",
    "\n",
    "\n",
    "# Initliaze the tokenizer\n",
    "enc = Tokenizer()"
   ]
  },
  {
   "cell_type": "code",
   "execution_count": 34,
   "id": "a9b118c2-93fb-4d35-a02e-cd93c9a76667",
   "metadata": {},
   "outputs": [],
   "source": [
    "## Generator Function to generate from the model\n",
    "def generate(model, prompt):\n",
    "    model.eval()\n",
    "    max_length = 500\n",
    "    tokens = enc.encode(prompt, True, False) # BOS -> True, EOS -> False\n",
    "    tokens = torch.tensor([tokens], dtype=torch.long)\n",
    "    xgen = tokens.to(device)\n",
    "    sample_rng = torch.Generator(device=device)\n",
    "    sample_rng.manual_seed(1337)\n",
    "\n",
    "    out_tokens = []\n",
    "\n",
    "    while xgen.size(1) < max_length:\n",
    "        # forward the model to get the logits\n",
    "        with torch.no_grad():\n",
    "            logits, loss = model(xgen) # (B, T, vocab_size)\n",
    "            # take the logits at the last position\n",
    "            logits = logits[:, -1, :] # (B, vocab_size)\n",
    "            # get the probabilities\n",
    "            probs = F.softmax(logits, dim=-1)\n",
    "            # do top-k sampling of 50 (huggingface pipeline default)\n",
    "            # topk_probs here becomes (5, 50), topk_indices is (5, 50)\n",
    "            topk_probs, topk_indices = torch.topk(probs, 50, dim=-1)\n",
    "            # select a token from the top-k probabilities\n",
    "            # note: multinomial does not demand the input to sum to 1\n",
    "            ix = torch.multinomial(topk_probs, 1, generator=sample_rng) # (B, 1)\n",
    "            # gather the corresponding indices\n",
    "            xcol = torch.gather(topk_indices, -1, ix) # (B, 1)\n",
    "\n",
    "            # Check if we reached end of generation\n",
    "            val = xcol.tolist()[0]\n",
    "            if val[0] == enc.eos_id:\n",
    "                break\n",
    "            else:\n",
    "                out_tokens.extend(val)\n",
    "\n",
    "            # append to the sequence\n",
    "            xgen = torch.cat((xgen, xcol), dim=1)\n",
    "    return out_tokens"
   ]
  },
  {
   "cell_type": "code",
   "execution_count": 35,
   "id": "43161bdd-44c8-4e41-beb4-56e44dcefbb5",
   "metadata": {},
   "outputs": [],
   "source": [
    "def preprocess_function(example):\n",
    "    \"\"\"\n",
    "    Formatting function returning a list of samples (kind of necessary for SFT API).\n",
    "    \"\"\"\n",
    "    text = f\"### Instruction:\\n{example['instruction']}\\n\\n### Input:\\n{example['input']}\\n\\n### Response:\\n{example['output']}\"\n",
    "    return text"
   ]
  },
  {
   "cell_type": "code",
   "execution_count": 38,
   "id": "323cde3d-a118-40a4-8db7-9682f1ab1749",
   "metadata": {},
   "outputs": [],
   "source": [
    "def ask(model, query):\n",
    "    prompt = preprocess_function({\"instruction\": query, \"input\": \"\", \"output\": \"\"})\n",
    "    output_toks = generate(model, prompt)\n",
    "    print(enc.decode(output_toks))"
   ]
  },
  {
   "cell_type": "markdown",
   "id": "95429099-89cc-4a34-af8f-7c2825b6f831",
   "metadata": {},
   "source": [
    "## Fine Tuned Model Generation"
   ]
  },
  {
   "cell_type": "code",
   "execution_count": 39,
   "id": "25737615-cf77-4a07-a948-7cb50b8ed252",
   "metadata": {},
   "outputs": [
    {
     "name": "stdout",
     "output_type": "stream",
     "text": [
      "2 + 2 is 4.\n"
     ]
    }
   ],
   "source": [
    "ask(model, \"What is 2 + 2?\")"
   ]
  },
  {
   "cell_type": "code",
   "execution_count": 41,
   "id": "4197a297-b6ad-4ebc-a842-486a699416bc",
   "metadata": {},
   "outputs": [
    {
     "name": "stdout",
     "output_type": "stream",
     "text": [
      "Eiffel Tower is located in Paris, France.\n"
     ]
    }
   ],
   "source": [
    "ask(model, \"Where is Eiffel Tower?\")"
   ]
  },
  {
   "cell_type": "code",
   "execution_count": 42,
   "id": "f0238185-d284-4823-9afe-dfe18175f1ce",
   "metadata": {},
   "outputs": [
    {
     "name": "stdout",
     "output_type": "stream",
     "text": [
      "Joe Biden is the president of the United States.\n"
     ]
    }
   ],
   "source": [
    "ask(model, \"Who is the president of U.S?\")"
   ]
  },
  {
   "cell_type": "code",
   "execution_count": 43,
   "id": "a929268c-9aa6-4d5d-a0f2-f3d027731ca3",
   "metadata": {},
   "outputs": [
    {
     "name": "stdout",
     "output_type": "stream",
     "text": [
      "The tallest building in the world is the Empire State Building in New York, which covers 6.5 million square meters.\n"
     ]
    }
   ],
   "source": [
    "ask(model, \"What's the tallest building in the world?\")"
   ]
  }
 ],
 "metadata": {
  "kernelspec": {
   "display_name": "Python 3 (ipykernel)",
   "language": "python",
   "name": "python3"
  },
  "language_info": {
   "codemirror_mode": {
    "name": "ipython",
    "version": 3
   },
   "file_extension": ".py",
   "mimetype": "text/x-python",
   "name": "python",
   "nbconvert_exporter": "python",
   "pygments_lexer": "ipython3",
   "version": "3.12.4"
  },
  "widgets": {
   "application/vnd.jupyter.widget-state+json": {
    "state": {},
    "version_major": 2,
    "version_minor": 0
   }
  }
 },
 "nbformat": 4,
 "nbformat_minor": 5
}
